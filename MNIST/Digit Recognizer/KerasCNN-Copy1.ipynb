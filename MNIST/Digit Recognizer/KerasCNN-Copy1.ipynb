{
 "cells": [
  {
   "cell_type": "code",
   "execution_count": 1,
   "metadata": {},
   "outputs": [
    {
     "name": "stderr",
     "output_type": "stream",
     "text": [
      "Using TensorFlow backend.\n"
     ]
    }
   ],
   "source": [
    "import numpy as np\n",
    "import matplotlib.pyplot as plt\n",
    "import pandas as pd\n",
    "import math\n",
    "from keras.utils import np_utils\n",
    "from pandas import Series , DataFrame, Panel\n",
    "from keras.models import Sequential\n",
    "from keras.layers import Dense\n",
    "from keras.layers import LSTM\n",
    "from keras.layers import Dropout\n",
    "from keras.layers import Conv2D, MaxPooling2D, Flatten\n",
    "from keras.callbacks import EarlyStopping\n",
    "from keras import metrics\n",
    "import plotly.plotly as py\n",
    "import plotly.tools as tls"
   ]
  },
  {
   "cell_type": "code",
   "execution_count": 2,
   "metadata": {},
   "outputs": [
    {
     "name": "stderr",
     "output_type": "stream",
     "text": [
      "C:\\Users\\willy\\Anaconda3\\lib\\site-packages\\ipykernel_launcher.py:4: DeprecationWarning:\n",
      "\n",
      "\n",
      ".ix is deprecated. Please use\n",
      ".loc for label based indexing or\n",
      ".iloc for positional indexing\n",
      "\n",
      "See the documentation here:\n",
      "http://pandas.pydata.org/pandas-docs/stable/indexing.html#deprecate_ix\n",
      "\n"
     ]
    }
   ],
   "source": [
    "train = pd.read_csv('./input/train.csv')\n",
    "\n",
    "TestX = (pd.read_csv('./input/test.csv').values).astype(float)\n",
    "labels = train.ix[1:,0].values\n",
    "TrainX = (train.ix[1:,1:].values).astype(float)\n",
    "TrainY = np_utils.to_categorical(labels)\n",
    "\n",
    "TrainX /= 255\n",
    "TrainX -= np.std(TrainX)"
   ]
  },
  {
   "cell_type": "code",
   "execution_count": 3,
   "metadata": {},
   "outputs": [
    {
     "name": "stdout",
     "output_type": "stream",
     "text": [
      "(41999, 784)\n"
     ]
    }
   ],
   "source": [
    "# from sklearn.decomposition import PCA\n",
    "# pca = PCA(n_components=256)\n",
    "# pca.fit(TrainX)\n",
    "# TrainX = pca.transform(TrainX)\n",
    "\n",
    "print(TrainX.shape)"
   ]
  },
  {
   "cell_type": "code",
   "execution_count": 4,
   "metadata": {
    "collapsed": true
   },
   "outputs": [],
   "source": [
    "TrainX= TrainX.reshape(TrainX.shape[0],28,28, 1)"
   ]
  },
  {
   "cell_type": "code",
   "execution_count": 5,
   "metadata": {},
   "outputs": [
    {
     "name": "stdout",
     "output_type": "stream",
     "text": [
      "Epoch 1/32\n",
      "35s - loss: 0.3997 - acc: 0.8892\n",
      "Epoch 2/32\n",
      "33s - loss: 0.0681 - acc: 0.9797\n",
      "Epoch 3/32\n",
      "37s - loss: 0.0390 - acc: 0.9877\n",
      "Epoch 4/32\n",
      "42s - loss: 0.0235 - acc: 0.9920\n",
      "Epoch 5/32\n",
      "49s - loss: 0.0179 - acc: 0.9944\n",
      "Epoch 6/32\n",
      "60s - loss: 0.0123 - acc: 0.9961\n",
      "Epoch 7/32\n",
      "59s - loss: 0.0098 - acc: 0.9967\n",
      "Epoch 8/32\n",
      "59s - loss: 0.0082 - acc: 0.9973\n",
      "Epoch 9/32\n",
      "67s - loss: 0.0056 - acc: 0.9981\n",
      "Epoch 10/32\n",
      "59s - loss: 0.0059 - acc: 0.9983\n",
      "Epoch 11/32\n",
      "68s - loss: 0.0045 - acc: 0.9985\n",
      "Epoch 12/32\n",
      "61s - loss: 0.0032 - acc: 0.9990\n",
      "Epoch 13/32\n",
      "66s - loss: 0.0037 - acc: 0.9990\n",
      "Epoch 14/32\n",
      "69s - loss: 0.0038 - acc: 0.9990\n",
      "Epoch 15/32\n",
      "62s - loss: 0.0050 - acc: 0.9989\n",
      "Epoch 16/32\n",
      "68s - loss: 0.0034 - acc: 0.9991\n",
      "Epoch 17/32\n",
      "69s - loss: 0.0032 - acc: 0.9993\n",
      "Epoch 18/32\n",
      "61s - loss: 0.0031 - acc: 0.9993\n",
      "Epoch 19/32\n",
      "68s - loss: 0.0021 - acc: 0.9995\n",
      "Epoch 20/32\n",
      "74s - loss: 0.0033 - acc: 0.9992\n",
      "Epoch 21/32\n",
      "65s - loss: 0.0026 - acc: 0.9994\n",
      "Epoch 22/32\n",
      "61s - loss: 0.0024 - acc: 0.9995\n",
      "Epoch 23/32\n",
      "59s - loss: 0.0016 - acc: 0.9998\n",
      "Epoch 24/32\n",
      "59s - loss: 0.0024 - acc: 0.9995\n",
      "Epoch 25/32\n",
      "67s - loss: 0.0029 - acc: 0.9994\n",
      "Epoch 26/32\n",
      "64s - loss: 0.0026 - acc: 0.9995\n",
      "Epoch 27/32\n",
      "62s - loss: 0.0019 - acc: 0.9997\n",
      "Epoch 28/32\n",
      "75s - loss: 0.0018 - acc: 0.9997\n",
      "Epoch 29/32\n",
      "75s - loss: 0.0021 - acc: 0.9997\n",
      "Epoch 30/32\n",
      "75s - loss: 0.0029 - acc: 0.9995\n",
      "Epoch 31/32\n",
      "75s - loss: 0.0012 - acc: 0.9997\n",
      "Epoch 32/32\n",
      "60s - loss: 0.0029 - acc: 0.9995\n"
     ]
    },
    {
     "data": {
      "text/plain": [
       "<keras.callbacks.History at 0x1ed07c0bc50>"
      ]
     },
     "execution_count": 5,
     "metadata": {},
     "output_type": "execute_result"
    }
   ],
   "source": [
    "model = Sequential()\n",
    "# 4x4 window\n",
    "model.add(Conv2D(128, kernel_size=(8,8),\n",
    "                 activation='relu',\n",
    "                 input_shape=(28,28,1)))\n",
    "# Dropout for regularization\n",
    "model.add(Dropout(0.20))\n",
    "# Reduce kernel size\n",
    "model.add(Conv2D(64, kernel_size=(4, 4),activation='relu',))\n",
    "model.add(Dropout(0.20))\n",
    "# model.add(MaxPooling2D(pool_size=(3, 3)))\n",
    "# model.add(Dropout(0.20))\n",
    "model.add(Flatten())\n",
    "model.add(Dense(784, activation = 'relu'))\n",
    "model.add(Dense(TrainY.shape[1],activation ='softmax'))\n",
    "early_stopping_monitor = EarlyStopping(monitor=\"acc\",min_delta=0.3,patience=2)\n",
    "\n",
    "model.compile(loss='categorical_crossentropy', optimizer='RMSprop', metrics=['accuracy'])\n",
    "\n",
    "model.fit(TrainX,TrainY, epochs = 32, verbose = 2, batch_size = 512)"
   ]
  },
  {
   "cell_type": "code",
   "execution_count": 6,
   "metadata": {
    "collapsed": true
   },
   "outputs": [],
   "source": [
    "# TestX /= 255\n",
    "# TestX -= np.std(TrainX)\n",
    "# TestX = pca.transform(TestX)\n",
    "# TestX= TestX.reshape(TestX.shape[0],28,28,1)\n",
    "Prediction = model.predict_classes(TestX , verbose = 2)"
   ]
  },
  {
   "cell_type": "code",
   "execution_count": 7,
   "metadata": {
    "collapsed": true
   },
   "outputs": [],
   "source": [
    "pd.DataFrame({\"ImageId\": list(range(1,len(Prediction)+1)), \"Label\": Prediction}).to_csv(\"submissionC.csv\", index=False, header=True)"
   ]
  },
  {
   "cell_type": "code",
   "execution_count": null,
   "metadata": {
    "collapsed": true
   },
   "outputs": [],
   "source": []
  }
 ],
 "metadata": {
  "kernelspec": {
   "display_name": "Python 3",
   "language": "python",
   "name": "python3"
  },
  "language_info": {
   "codemirror_mode": {
    "name": "ipython",
    "version": 3
   },
   "file_extension": ".py",
   "mimetype": "text/x-python",
   "name": "python",
   "nbconvert_exporter": "python",
   "pygments_lexer": "ipython3",
   "version": "3.6.1"
  }
 },
 "nbformat": 4,
 "nbformat_minor": 2
}
